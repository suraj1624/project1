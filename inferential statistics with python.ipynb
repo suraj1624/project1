{
 "cells": [
  {
   "cell_type": "markdown",
   "metadata": {},
   "source": [
    "# GEOG 380L Lab 07: Inferential Statistics With Python -- Statistical Hypothesis Testing With Python\n",
    "\n",
    "Lecture Instructor: Dr. Liping Yang\n",
    "\n",
    "Lab instructor: Dr. Liping Yang "
   ]
  },
  {
   "cell_type": "code",
   "execution_count": 108,
   "metadata": {},
   "outputs": [
    {
     "name": "stdout",
     "output_type": "stream",
     "text": [
      "welcome to GEOG 380L Lab 07, the last Lab for GEOG380L!\n"
     ]
    }
   ],
   "source": [
    "print (\"welcome to GEOG 380L Lab 07, the last Lab for GEOG380L!\")"
   ]
  },
  {
   "cell_type": "markdown",
   "metadata": {},
   "source": [
    "# In order to be able to learn statistics with Python, we need to learn the basic syntax and usages of python. No Python programming experience and Jupyter notebook usage expericen before? Do not worry. All the things will be covered through this course and we will learn as we build!\n",
    "The goal of Lab 07\n",
    "\n",
    "    Test how well you have mastered the theory and coding skills you have learned from both lecture along with demo using Python to do hypothesis testing tasks\n",
    "    Test how well you have mastered how to manipulate a given dataset using pandas and numpy libraries to solve hypothesis testing tasks.\n",
    "\n",
    "The total points of Lab 07, which contains four (4) tasks, are 30.\n",
    "How to submit your lab assignments to UNM Learn.\n",
    "\n",
    "Important, read THIS before you work on your Lab 02 for how to submit your lab assignments to UNM Learn.\n",
    "Task 00 -- importing required libraries and Loading the dataset (Dr. Yang has done this for you)\n",
    "\n",
    "We will use the same heart disease dataset we used in the lecture demo for this Lab. They are loaded below by Dr. Yang for you."
   ]
  },
  {
   "cell_type": "code",
   "execution_count": 2,
   "metadata": {},
   "outputs": [],
   "source": [
    "# Importing required libraries.\n",
    "import pandas as pd\n",
    "import numpy as np"
   ]
  },
  {
   "cell_type": "code",
   "execution_count": 18,
   "metadata": {},
   "outputs": [
    {
     "data": {
      "text/html": [
       "<div>\n",
       "<style scoped>\n",
       "    .dataframe tbody tr th:only-of-type {\n",
       "        vertical-align: middle;\n",
       "    }\n",
       "\n",
       "    .dataframe tbody tr th {\n",
       "        vertical-align: top;\n",
       "    }\n",
       "\n",
       "    .dataframe thead th {\n",
       "        text-align: right;\n",
       "    }\n",
       "</style>\n",
       "<table border=\"1\" class=\"dataframe\">\n",
       "  <thead>\n",
       "    <tr style=\"text-align: right;\">\n",
       "      <th></th>\n",
       "      <th>age</th>\n",
       "      <th>sex</th>\n",
       "      <th>cp</th>\n",
       "      <th>trestbps</th>\n",
       "      <th>chol</th>\n",
       "      <th>fbs</th>\n",
       "      <th>restecg</th>\n",
       "      <th>thalach</th>\n",
       "      <th>exang</th>\n",
       "      <th>oldpeak</th>\n",
       "      <th>slope</th>\n",
       "      <th>ca</th>\n",
       "      <th>thal</th>\n",
       "      <th>target</th>\n",
       "    </tr>\n",
       "  </thead>\n",
       "  <tbody>\n",
       "    <tr>\n",
       "      <th>0</th>\n",
       "      <td>63</td>\n",
       "      <td>1</td>\n",
       "      <td>3</td>\n",
       "      <td>145</td>\n",
       "      <td>233</td>\n",
       "      <td>1</td>\n",
       "      <td>0</td>\n",
       "      <td>150</td>\n",
       "      <td>0</td>\n",
       "      <td>2.3</td>\n",
       "      <td>0</td>\n",
       "      <td>0</td>\n",
       "      <td>1</td>\n",
       "      <td>1</td>\n",
       "    </tr>\n",
       "    <tr>\n",
       "      <th>1</th>\n",
       "      <td>37</td>\n",
       "      <td>1</td>\n",
       "      <td>2</td>\n",
       "      <td>130</td>\n",
       "      <td>250</td>\n",
       "      <td>0</td>\n",
       "      <td>1</td>\n",
       "      <td>187</td>\n",
       "      <td>0</td>\n",
       "      <td>3.5</td>\n",
       "      <td>0</td>\n",
       "      <td>0</td>\n",
       "      <td>2</td>\n",
       "      <td>1</td>\n",
       "    </tr>\n",
       "    <tr>\n",
       "      <th>2</th>\n",
       "      <td>41</td>\n",
       "      <td>0</td>\n",
       "      <td>1</td>\n",
       "      <td>130</td>\n",
       "      <td>204</td>\n",
       "      <td>0</td>\n",
       "      <td>0</td>\n",
       "      <td>172</td>\n",
       "      <td>0</td>\n",
       "      <td>1.4</td>\n",
       "      <td>2</td>\n",
       "      <td>0</td>\n",
       "      <td>2</td>\n",
       "      <td>1</td>\n",
       "    </tr>\n",
       "    <tr>\n",
       "      <th>3</th>\n",
       "      <td>56</td>\n",
       "      <td>1</td>\n",
       "      <td>1</td>\n",
       "      <td>120</td>\n",
       "      <td>236</td>\n",
       "      <td>0</td>\n",
       "      <td>1</td>\n",
       "      <td>178</td>\n",
       "      <td>0</td>\n",
       "      <td>0.8</td>\n",
       "      <td>2</td>\n",
       "      <td>0</td>\n",
       "      <td>2</td>\n",
       "      <td>1</td>\n",
       "    </tr>\n",
       "    <tr>\n",
       "      <th>4</th>\n",
       "      <td>57</td>\n",
       "      <td>0</td>\n",
       "      <td>0</td>\n",
       "      <td>120</td>\n",
       "      <td>354</td>\n",
       "      <td>0</td>\n",
       "      <td>1</td>\n",
       "      <td>163</td>\n",
       "      <td>1</td>\n",
       "      <td>0.6</td>\n",
       "      <td>2</td>\n",
       "      <td>0</td>\n",
       "      <td>2</td>\n",
       "      <td>1</td>\n",
       "    </tr>\n",
       "  </tbody>\n",
       "</table>\n",
       "</div>"
      ],
      "text/plain": [
       "   age  sex  cp  trestbps  chol  fbs  restecg  thalach  exang  oldpeak  slope  \\\n",
       "0   63    1   3       145   233    1        0      150      0      2.3      0   \n",
       "1   37    1   2       130   250    0        1      187      0      3.5      0   \n",
       "2   41    0   1       130   204    0        0      172      0      1.4      2   \n",
       "3   56    1   1       120   236    0        1      178      0      0.8      2   \n",
       "4   57    0   0       120   354    0        1      163      1      0.6      2   \n",
       "\n",
       "   ca  thal  target  \n",
       "0   0     1       1  \n",
       "1   0     2       1  \n",
       "2   0     2       1  \n",
       "3   0     2       1  \n",
       "4   0     2       1  "
      ]
     },
     "execution_count": 18,
     "metadata": {},
     "output_type": "execute_result"
    }
   ],
   "source": [
    "#please change the location of the heart disease file\n",
    "heart_df = pd.read_csv(\"C:/Users/Hp/Documents/Datasets/heart.csv\") #df means dataframe\n",
    "# To display the top 5 rows\n",
    "heart_df.head() "
   ]
  },
  {
   "cell_type": "markdown",
   "metadata": {},
   "source": [
    "# Task 01 (5 points) -- Hypothesis Testing for One Proportion\n",
    "Research problem\n",
    "\n",
    "The last column of the dataset is ‘target’. That means if the person has heart disease or not. The research question for Task01 is,\n",
    "\n",
    "“The population proportion of Yemen having heart disease is 65%. Are more people suffering from heart disease in the US”?\n",
    "\n",
    "Note that the significance level alpha for Task 01 is 5% or 0.05.\n",
    "\n",
    "Please provide the answer (both text explanation and python coding) to this research question step by step below.\n",
    "Step 1: XXX (please complete the heading for step 1) "
   ]
  },
  {
   "cell_type": "code",
   "execution_count": 39,
   "metadata": {},
   "outputs": [],
   "source": [
    "# put your answer for step 1 task 01 in this cell between the star lines, just click and then you can enter you code below\n",
    "#************************* your code begin here*************************\n",
    "#caLculating the proportion for people having disease\n",
    "p=heart_df[\"target\"]==1\n",
    "count=np.sum(p)\n",
    "nobs=len(heart_df[\"target\"])\n",
    "#*************************your code end here*************************"
   ]
  },
  {
   "cell_type": "code",
   "execution_count": 43,
   "metadata": {},
   "outputs": [
    {
     "name": "stdout",
     "output_type": "stream",
     "text": [
      "0.05969909146953209\n"
     ]
    }
   ],
   "source": [
    "# put your answer for step 2 task 01 in this cell between the star lines, just click and then you can enter you code below\n",
    "#************************* your code begin here*************************\n",
    "#Calculation of p-value\n",
    "import numpy as np\n",
    "from statsmodels.stats.proportion import proportions_ztest\n",
    "stat, pval = proportions_ztest(count,nobs,value=0.5,alternative=\"larger\")\n",
    "print(pval)\n",
    "#*************************your code end here*************************"
   ]
  },
  {
   "cell_type": "code",
   "execution_count": null,
   "metadata": {},
   "outputs": [],
   "source": [
    "# put your answer for step 3 task 01 in this cell between the star lines, just click and then you can enter you code below\n",
    "#************************* your code begin here*************************\n",
    "#Decision Rule\n",
    "if(pval<0.05):\n",
    "    print(\"Null hypothesis is rejected\")\n",
    "else:\n",
    "    print(\"Fail to reject null hypothesis\")\n",
    "    \n",
    "#*************************your code end here*************************"
   ]
  },
  {
   "cell_type": "code",
   "execution_count": 45,
   "metadata": {},
   "outputs": [
    {
     "name": "stdout",
     "output_type": "stream",
     "text": [
      "Hence, the population proportion of Yeman having heart disease is 65%\n"
     ]
    }
   ],
   "source": [
    "# put your answer for step 4 task 01 in this cell between the star lines, just click and then you can enter you code below\n",
    "#************************* your code begin here*************************\n",
    "# conclusion\n",
    "print(\"Hence, the population proportion of Yeman having heart disease is 65%\")\n",
    "#*************************your code end here*************************"
   ]
  },
  {
   "cell_type": "markdown",
   "metadata": {},
   "source": [
    "# Task 02 (5 points) -- Hypothesis Tests for the Difference in Two Proportions\n",
    "Research problem\n",
    "\n",
    "In Task02, you are going to test if the population proportion of females with heart disease is different from the population proportion of males with heart disease.\n",
    "\n",
    "Note that the significance level for Task 02 is 5% or 0.05\n",
    "\n",
    "Please provide the answer (both text explanation and python coding) to this research question step by step below.\n",
    "Step 1: XXX (please complete the heading for step 1)"
   ]
  },
  {
   "cell_type": "code",
   "execution_count": 107,
   "metadata": {},
   "outputs": [],
   "source": [
    "# put your answer for step 1 task 02 in this cell between the star lines, just click and then you can enter you code below\n",
    "#************************* your code begin here*************************\n",
    "#caLculating the proportion for people having disease for males\n",
    "p1=heart_df[heart_df[\"sex\"]==1][\"target\"]==1\n",
    "count1=np.sum(p1)\n",
    "#caLculating the proportion for people having disease for females\n",
    "p2=heart_df[heart_df[\"sex\"]==0][\"target\"]==1\n",
    "count2=np.sum(p2)\n",
    "nobs1=len(heart_df[\"target\"])\n",
    "sample_success_a, sample_size_a = (count1,nobs1)\n",
    "sample_success_b, sample_size_b = (count2,nobs1)\n",
    "successes = np.array([sample_success_a, sample_success_b])\n",
    "samples = np.array([sample_size_a, sample_size_b])\n",
    "#*************************your code end here*************************"
   ]
  },
  {
   "cell_type": "code",
   "execution_count": 72,
   "metadata": {},
   "outputs": [
    {
     "name": "stdout",
     "output_type": "stream",
     "text": [
      "0.05530961123192759\n"
     ]
    }
   ],
   "source": [
    "# put your answer for step 2 task 01 in this cell between the star lines, just click and then you can enter you code below\n",
    "#************************* your code begin here*************************\n",
    "#Calculation of p-value\n",
    "import numpy as np\n",
    "from statsmodels.stats.proportion import proportions_ztest\n",
    "stat, pval1 = proportions_ztest(count=successes, nobs=samples,  alternative='two-sided')\n",
    "print(pval1)\n",
    "\n",
    "#*************************your code end here*************************"
   ]
  },
  {
   "cell_type": "code",
   "execution_count": 73,
   "metadata": {
    "scrolled": true
   },
   "outputs": [
    {
     "name": "stdout",
     "output_type": "stream",
     "text": [
      "Fail to reject null hypothesis\n"
     ]
    }
   ],
   "source": [
    "   # put your answer for step 3 task 01 in this cell between the star lines, just click and then you can enter you code below\n",
    "#************************* your code begin here*************************\n",
    "#Decision Rule\n",
    "if(pval1<0.05):\n",
    "    print(\"Null hypothesis is rejected\")\n",
    "else:\n",
    "    print(\"Fail to reject null hypothesis\")"
   ]
  },
  {
   "cell_type": "code",
   "execution_count": 74,
   "metadata": {},
   "outputs": [
    {
     "name": "stdout",
     "output_type": "stream",
     "text": [
      "Hence, the population proportion of females with heart disease is same as the population proportion of males with heart disease \n"
     ]
    }
   ],
   "source": [
    "# put your answer for step 4 task 01 in this cell between the star lines, just click and then you can enter you code below\n",
    "#************************* your code begin here*************************\n",
    "# conclusion\n",
    "print(\"Hence, the population proportion of females with heart disease is same as the population proportion of males with heart disease \")\n",
    "#*************************your code end here*************************\n",
    "#*************************your code end here*************************"
   ]
  },
  {
   "cell_type": "markdown",
   "metadata": {},
   "source": [
    "# Task 03 (10 points) -- Hypothesis Testing for One Mean\n",
    "Research problem\n",
    "\n",
    "This is the research question for Task03:\n",
    "\n",
    "“Check if the mean cholesterol is great than 250”.\n",
    "\n",
    "In the heart disease dataset, there is a column called chol refers to cholesterol.\n",
    "\n",
    "Note that the significance level for Task 03 is 0.1 or 10%.\n",
    "\n",
    "Please provide the answer (both text explanation and python coding) to this research question step by step below.\n",
    "Step 1: XXX (please complete the heading for step 1)"
   ]
  },
  {
   "cell_type": "code",
   "execution_count": 95,
   "metadata": {},
   "outputs": [],
   "source": [
    "# put your answer for step 1 task 03 in this cell between the star lines, just click and then you can enter you code below\n",
    "#************************* your code begin here*************************\n",
    "#selecting the cholestrol column \n",
    "chol=heart_df[\"chol\"]\n",
    "#*************************your code end here*************************"
   ]
  },
  {
   "cell_type": "code",
   "execution_count": 97,
   "metadata": {},
   "outputs": [
    {
     "name": "stdout",
     "output_type": "stream",
     "text": [
      "0.21056022062834284\n"
     ]
    }
   ],
   "source": [
    "# put your answer for step 2 task 03 in this cell between the star lines, just click and then you can enter you code below\n",
    "#************************* your code begin here*************************\n",
    "# calculation od p_value\n",
    "from scipy import stats\n",
    "stat,p_val=stats.ttest_1samp(chol,250,alt)\n",
    "print(p_val)\n",
    "#*************************your code end here*************************"
   ]
  },
  {
   "cell_type": "code",
   "execution_count": 99,
   "metadata": {},
   "outputs": [
    {
     "name": "stdout",
     "output_type": "stream",
     "text": [
      "Fail to reject null hypothesis\n"
     ]
    }
   ],
   "source": [
    "# put your answer for step 3 task 03 in this cell between the star lines, just click and then you can enter you code below\n",
    "#************************* your code begin here*************************\n",
    "#Decision Rule\n",
    "if(p_val<0.10):\n",
    "    print(\"Null hypothesis is rejected\")\n",
    "else:\n",
    "    print(\"Fail to reject null hypothesis\")\n",
    "#*************************your code end here*************************"
   ]
  },
  {
   "cell_type": "code",
   "execution_count": 100,
   "metadata": {},
   "outputs": [
    {
     "name": "stdout",
     "output_type": "stream",
     "text": [
      "Mean cholesterol is notgreater than 250\n"
     ]
    }
   ],
   "source": [
    "# put your answer for step 4 task 03 in this cell between the star lines, just click and then you can enter you code below\n",
    "#************************* your code begin here*************************\n",
    "#conclusion\n",
    "print(\"Mean cholesterol is notgreater than 250\")\n",
    "#*************************your code end here*************************"
   ]
  },
  {
   "cell_type": "markdown",
   "metadata": {},
   "source": [
    "# Task 04 (10 points) -- Hypothesis Testing for the Difference in Mean\n",
    "Research problem\n",
    "\n",
    "For Task 04, you will use the same data as Task 03 (i.e., the chol column). But here you will test if there is any difference between the mean chol of females to the mean chol of males.\n",
    "\n",
    "Please perform the test with a 10% (or 0.1) significance level.\n",
    "\n",
    "Please provide the answer (both text explanation and python coding) to this research question step by step below.\n",
    "Step 1: XXX (please complete the heading for step 1)"
   ]
  },
  {
   "cell_type": "code",
   "execution_count": 103,
   "metadata": {},
   "outputs": [],
   "source": [
    "# put your answer for step 1 task 03 in this cell between the star lines, just click and then you can enter you code below\n",
    "#************************* your code begin here*************************\n",
    "#selecting cholestrol column for males\n",
    "male_chol=heart_df[heart_df[\"sex\"]==1][\"chol\"]\n",
    "#selecting cholestrol column for females\n",
    "female_chol=heart_df[heart_df[\"sex\"]==0][\"chol\"]\n",
    "#*************************your code end here*************************"
   ]
  },
  {
   "cell_type": "code",
   "execution_count": 104,
   "metadata": {},
   "outputs": [
    {
     "name": "stdout",
     "output_type": "stream",
     "text": [
      "0.000529966610622664\n"
     ]
    }
   ],
   "source": [
    "# put your answer for step 2 task 03 in this cell between the star lines, just click and then you can enter you code below\n",
    "#************************* your code begin here*************************\n",
    "#calculation of p_value\n",
    "from scipy import stats\n",
    "stat,p_value=stats.ttest_ind(male_chol,female_chol)\n",
    "print(p_value)\n",
    "#*************************your code end here*************************"
   ]
  },
  {
   "cell_type": "code",
   "execution_count": 105,
   "metadata": {},
   "outputs": [
    {
     "name": "stdout",
     "output_type": "stream",
     "text": [
      "Null hypothesis is rejected\n"
     ]
    }
   ],
   "source": [
    "# put your answer for step 3 task 03 in this cell between the star lines, just click and then you can enter you code below\n",
    "#************************* your code begin here*************************\n",
    "#Decision Rule\n",
    "if(p_value<0.10):\n",
    "    print(\"Null hypothesis is rejected\")\n",
    "else:\n",
    "    print(\"Fail to reject null hypothesis\")\n",
    "#*************************your code end here*************************"
   ]
  },
  {
   "cell_type": "code",
   "execution_count": 106,
   "metadata": {},
   "outputs": [
    {
     "name": "stdout",
     "output_type": "stream",
     "text": [
      "Mean cholesterol of females is different from the mean cholesterol of males\n"
     ]
    }
   ],
   "source": [
    "# put your answer for step 4 task 03 in this cell between the star lines, just click and then you can enter you code below\n",
    "#************************* your code begin here*************************\n",
    "#conclusion\n",
    "print(\"Mean cholesterol of females is different from the mean cholesterol of males\")\n",
    "#*************************your code end here*************************"
   ]
  }
 ],
 "metadata": {
  "kernelspec": {
   "display_name": "Python 3",
   "language": "python",
   "name": "python3"
  },
  "language_info": {
   "codemirror_mode": {
    "name": "ipython",
    "version": 3
   },
   "file_extension": ".py",
   "mimetype": "text/x-python",
   "name": "python",
   "nbconvert_exporter": "python",
   "pygments_lexer": "ipython3",
   "version": "3.8.3"
  }
 },
 "nbformat": 4,
 "nbformat_minor": 4
}
