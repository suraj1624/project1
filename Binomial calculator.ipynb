{
 "cells": [
  {
   "cell_type": "code",
   "execution_count": 27,
   "metadata": {},
   "outputs": [
    {
     "name": "stdout",
     "output_type": "stream",
     "text": [
      "Please enter value of x\t3\n",
      "Please enter value of n\t5\n",
      "Please enter value of p\t0.3\n",
      "Probability for x = 3 : 0.132300\n",
      "Probability for x > 3 : 0.030780\n",
      "Probability for x >= 3 : 0.163080\n",
      "Probability for x < 3 : 0.836920\n",
      "Probability for x =< 3 : 0.969220\n"
     ]
    }
   ],
   "source": [
    "def binom(x):\n",
    "    while True:\n",
    "        x=int(input(\"Please enter value of x\\t\"))\n",
    "        n=int(input(\"Please enter value of n\\t\"))\n",
    "        p=float(input(\"Please enter value of p\\t\"))\n",
    "        if (p<0 or p>1) or (x>n):\n",
    "            print(\"P value should between 0 and 1 or x should less than n\")\n",
    "            break\n",
    "        elif (p>=0 or p<1):\n",
    "            fact1,fact2,fact3=1,1,1\n",
    "            for i in range(n):\n",
    "                fact1=fact1*i+fact1\n",
    "            for j in range(x):\n",
    "                fact2=fact2*j+fact2\n",
    "            for k in range(n-x):\n",
    "                fact3=fact3*k+fact3\n",
    "            prob=(fact1)/(fact2*fact3)*(p**x)*(1-p)**(n-x)\n",
    "            sum1=0\n",
    "            for i in range(x+1,n+1):\n",
    "                fact4,fact5=1,1\n",
    "                for j in range(i):\n",
    "                    fact4=fact4*j+fact4\n",
    "                for j in range(n-i):\n",
    "                    fact5=fact5*j+fact5\n",
    "                prob1=(fact1)/(fact4*fact5)*(p**i)*(1-p)**(n-i)\n",
    "                sum1=prob1+sum1\n",
    "            prob3=prob+sum1\n",
    "            sum2=0\n",
    "            for i in range(0,x):\n",
    "                fact2,fact3=1,1\n",
    "                for j in range(i):\n",
    "                    fact2=fact2*j+fact2\n",
    "                for j in range(n-i):\n",
    "                    fact3=fact3*j+fact3\n",
    "                prob4=(fact1)/(fact2*fact3)*(p**i)*(1-p)**(n-i)\n",
    "                sum2=prob4+sum2\n",
    "            sum3=0\n",
    "            for i in range(0,x+1):\n",
    "                fact2,fact3=1,1\n",
    "                for j in range(i):\n",
    "                    fact2=fact2*j+fact2\n",
    "                for j in range(n-i):\n",
    "                    fact3=fact3*j+fact3\n",
    "                prob5=(fact1)/(fact2*fact3)*(p**i)*(1-p)**(n-i)\n",
    "                sum3=prob5+sum3\n",
    "            print(\"Probability for x = %d : %f\" %(x,prob))\n",
    "            print(\"Probability for x > %d : %f\" %(x,sum1))\n",
    "            print(\"Probability for x >= %d : %f\" %(x,prob3))\n",
    "            print(\"Probability for x < %d : %f\" %(x,sum2))\n",
    "            print(\"Probability for x =< %d : %f\" %(x,sum3))\n",
    "            break\n",
    "        else:\n",
    "            print(\"*******\")\n",
    "        continue \n",
    "binom(1)"
   ]
  }
 ],
 "metadata": {
  "kernelspec": {
   "display_name": "Python 3",
   "language": "python",
   "name": "python3"
  },
  "language_info": {
   "codemirror_mode": {
    "name": "ipython",
    "version": 3
   },
   "file_extension": ".py",
   "mimetype": "text/x-python",
   "name": "python",
   "nbconvert_exporter": "python",
   "pygments_lexer": "ipython3",
   "version": "3.8.3"
  }
 },
 "nbformat": 4,
 "nbformat_minor": 4
}
